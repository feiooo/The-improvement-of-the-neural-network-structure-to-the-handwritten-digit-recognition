{
  "nbformat": 4,
  "nbformat_minor": 0,
  "metadata": {
    "kernelspec": {
      "display_name": "Python 3",
      "language": "python",
      "name": "python3"
    },
    "language_info": {
      "codemirror_mode": {
        "name": "ipython",
        "version": 3
      },
      "file_extension": ".py",
      "mimetype": "text/x-python",
      "name": "python",
      "nbconvert_exporter": "python",
      "pygments_lexer": "ipython3",
      "version": "3.7.2"
    },
    "colab": {
      "name": "340_project.ipynb",
      "provenance": [],
      "collapsed_sections": []
    },
    "accelerator": "GPU"
  },
  "cells": [
    {
      "cell_type": "markdown",
      "metadata": {
        "id": "reEvCzKx4K_c"
      },
      "source": [
        "<h2>CMPUT 340 Project - Improve the classification accuracy in Lab 5 </h2>\n",
        "\n",
        "Lab 5 review: In lab 5, we used Gradient Descent to implement a function for recognizing handwritten digits. \n",
        "This code draws on what I learned in the CMPUT328."
      ]
    },
    {
      "cell_type": "code",
      "metadata": {
        "id": "Pm39hz7xD_so",
        "colab": {
          "base_uri": "https://localhost:8080/"
        },
        "outputId": "b8a97aee-f078-457d-e3a4-a177e9314168"
      },
      "source": [
        "import torch\n",
        "from torchvision import transforms, datasets\n",
        "import numpy as np\n",
        "import timeit\n",
        "from collections import OrderedDict\n",
        "from pprint import pformat\n",
        "from torch.utils.data.sampler import *\n",
        "#from tqdm import tqdm\n",
        "import time\n",
        "from google.colab import drive\n",
        "\n",
        "import torch.nn as nn\n",
        "import torch.nn.functional as F\n",
        "\n",
        "import matplotlib.pyplot as plt\n",
        "\n",
        "torch.multiprocessing.set_sharing_strategy('file_system')\n",
        "\n",
        "drive.mount('/content/gdrive/')\n",
        "root = '/content/gdrive/My Drive/cmput340-project/model/'"
      ],
      "execution_count": 1,
      "outputs": [
        {
          "output_type": "stream",
          "text": [
            "Drive already mounted at /content/gdrive/; to attempt to forcibly remount, call drive.mount(\"/content/gdrive/\", force_remount=True).\n"
          ],
          "name": "stdout"
        }
      ]
    },
    {
      "cell_type": "markdown",
      "metadata": {
        "id": "xxdOZuP72EjE"
      },
      "source": [
        "<h3>Plot function </h3>\n",
        "\n",
        "Receives an image and plots the digit."
      ]
    },
    {
      "cell_type": "code",
      "metadata": {
        "id": "0JyNIrkgGKA5"
      },
      "source": [
        "def plot_digit(image):\n",
        "    \"\"\"\n",
        "    This function receives an image and plots the digit. \n",
        "    \"\"\"\n",
        "    plt.imshow(image,cmap='gray')\n",
        "    plt.show()"
      ],
      "execution_count": 2,
      "outputs": []
    },
    {
      "cell_type": "code",
      "metadata": {
        "id": "orXkz_dRakgW"
      },
      "source": [
        "def plot_plot(plotname,plot_list,title):\n",
        "\n",
        "  \"\"\"\n",
        "  This function receives an list and plots the plot. \n",
        "  \"\"\"\n",
        "  plt.plot(range(len(plot_list)), plot_list)\n",
        "  plt.title(title)\n",
        "  plt.xlabel('epoch')\n",
        "  plt.ylabel(plotname)  \n",
        "  plt.savefig(root + plotname+'.jpg')\n",
        "  plt.show()"
      ],
      "execution_count": 3,
      "outputs": []
    },
    {
      "cell_type": "code",
      "metadata": {
        "id": "GtLMM8pze-le"
      },
      "source": [
        "def plot_plot_v(plotname,plot_list,title):\n",
        "\n",
        "  \"\"\"\n",
        "  This function receives an list and plots the plot. \n",
        "  \"\"\"\n",
        "  range_list = []\n",
        "  for i in range(len(plot_list)):\n",
        "    range_list.append(i*5)\n",
        "  plt.plot(range_list, plot_list)\n",
        "  plt.title(title)\n",
        "  plt.xlabel('epoch')\n",
        "  plt.ylabel(plotname)\n",
        "  plt.savefig(root + plotname+'.jpg')\n",
        "  plt.show()"
      ],
      "execution_count": 4,
      "outputs": []
    },
    {
      "cell_type": "markdown",
      "metadata": {
        "id": "puLhqsB0swYQ"
      },
      "source": [
        "<h3>Import Dataset </h3>\n",
        "\n",
        "The MNIST dataset was used to train."
      ]
    },
    {
      "cell_type": "code",
      "metadata": {
        "id": "fWprX4Hq4K_c"
      },
      "source": [
        "def load_data(dataset_name, device, config):\n",
        "  #Initialization\n",
        "  batch_size = config['batch_size']\n",
        "  transform = config['transform']\n",
        "\n",
        "  # Load dataset\n",
        "  if dataset_name =='MNIST':\n",
        "    trainset = datasets.MNIST(root='./data', train=True, download=True, transform=transform)\n",
        "    testset = datasets.MNIST(root='./data', train=False, download=True, transform=transform)\n",
        "    # Define dataloader\n",
        "    split = int(len(trainset)-12000)\n",
        "    MNIST_training_set, MNIST_validation_set = torch.utils.data.random_split(trainset, [split, 12000])\n",
        "    train_dataloader = torch.utils.data.DataLoader(MNIST_training_set,batch_size=batch_size, shuffle=True)\n",
        "    valid_dataloader = torch.utils.data.DataLoader(MNIST_validation_set,batch_size=batch_size, shuffle=True)\n",
        "    test_dataloader = torch.utils.data.DataLoader(testset,batch_size=batch_size, shuffle=True)\n",
        "\n",
        "  # plot data example\n",
        "  dataiter = iter(train_dataloader)\n",
        "  images, labels = dataiter.next()\n",
        "  plot_digit(images[0][0])\n",
        "\n",
        "  return train_dataloader, valid_dataloader, test_dataloader"
      ],
      "execution_count": 5,
      "outputs": []
    },
    {
      "cell_type": "markdown",
      "metadata": {
        "id": "TdXw0j3Y4K_d"
      },
      "source": [
        "<h3>Training/validating a Model + testing model</h3>\n",
        "\n"
      ]
    },
    {
      "cell_type": "code",
      "metadata": {
        "id": "_p6urd3-4K_d"
      },
      "source": [
        "# Main model definition + any utilities such as weight initialization\n",
        "# https://pytorch.org/tutorials/beginner/blitz/neural_networks_tutorial.html\n",
        "class mni_net(nn.Module): \n",
        "    def __init__(self):\n",
        "        super(mni_net, self).__init__()\n",
        "        self.conv1 = nn.Conv2d(1, 10, 5) \n",
        "        self.conv2 = nn.Conv2d(10, 20, 3)\n",
        "\n",
        "        self.fc1 = nn.Linear(20 * 5 * 5, 500)  # 20*10*10-->500*1*1\n",
        "        self.dropOut = nn.Dropout(0.2)\n",
        "        self.fc2 = nn.Linear(500, 10)            # 500*1*1-->10*1*1\n",
        "        self.softmax = nn.Softmax(dim=1)\n",
        "\n",
        "\n",
        "    def forward(self, x):\n",
        "        in_size = x.size(0)\n",
        "        out = self.conv1(x) # 28*28*1-->24*24*10\n",
        "        out = F.relu(out)\n",
        "        out = F.max_pool2d(out, 2, 2) # 24*24*10-->12*12*10  \n",
        "        out = self.conv2(out) # 12*12*10--> 10*10*20\n",
        "        out = F.relu(out)\n",
        "        out = F.max_pool2d(out, 2, 2)  # 10*10*20--> 5*5*20\n",
        "        out = out.view(in_size, -1) # 5*5*20 --> 500*1*1\n",
        "        out = self.fc1(out) # 500*1*1--> 500*1*1\n",
        "        out = self.dropOut(out)\n",
        "        out = F.relu(out)\n",
        "        out = self.fc2(out) # 500*1*1--> 10*1*1\n",
        "        # softmax\n",
        "        out = self.softmax(out)\n",
        "        return out"
      ],
      "execution_count": 6,
      "outputs": []
    },
    {
      "cell_type": "code",
      "metadata": {
        "id": "eEzvUYp1540A"
      },
      "source": [
        "# Main trainig + validation, returns a trained model\n",
        "def train(train_dataloader, valid_dataloader, device, config, Net):\n",
        "\n",
        "  train_model = Net().to(device)\n",
        "  #train_model\n",
        "  l_r = config['lr']\n",
        "  num_epochs = config['num_epochs']\n",
        "  momentum = config['momentum']\n",
        "  weight_decay = config['weight_decay']\n",
        "  train_loss_list = []\n",
        "  validation_loss_list = []\n",
        "  validation_accuracy_list = []\n",
        "\n",
        "  # Define cross entropy loss \n",
        "  criterion = torch.nn.CrossEntropyLoss()\n",
        "  # Define optimizer\n",
        "  optimizer = torch.optim.SGD(train_model.parameters(), lr=l_r, momentum=momentum, weight_decay = weight_decay)\n",
        "  # Train loop\n",
        "  for epoch in range(num_epochs):\n",
        "    print('epoch',epoch)\n",
        "    train_loss = 0\n",
        "    for batch_idx, (data, target) in enumerate(train_dataloader):\n",
        "      data = data.to(device)\n",
        "      target = target.to(device)\n",
        "      optimizer.zero_grad()\n",
        "      outputs = train_model(data)\n",
        "      loss = criterion(outputs, target)\n",
        "      train_loss += loss\n",
        "      loss.backward()\n",
        "      optimizer.step()\n",
        "    train_loss /= len(train_dataloader.dataset)\n",
        "    train_loss_list.append(train_loss)\n",
        "    # Validate loop\n",
        "    with torch.no_grad():\n",
        "      if (epoch%5 == 0):\n",
        "        validation_loss = 0\n",
        "        correct = 0\n",
        "        for data, target in valid_dataloader:\n",
        "          data = data.to(device)\n",
        "          target = target.to(device)\n",
        "          output = train_model(data)\n",
        "          pred = output.data.max(1, keepdim=True)[1]\n",
        "          correct += pred.eq(target.data.view_as(pred)).sum()\n",
        "          validation_loss += criterion(output, target)\n",
        "        validation_loss /= len(valid_dataloader.dataset)\n",
        "        acc = 100. * correct / len(valid_dataloader.dataset)\n",
        "        validation_accuracy_list.append(acc)\n",
        "        print('Validation set: Avg. loss: {:.4f}, Accuracy: {}/{} ({:.0f}%)\\n'.format(validation_loss, correct, len(valid_dataloader.dataset), acc))\n",
        "        validation_loss_list.append(validation_loss)\n",
        "    \n",
        "  # Draw train_loss plot\n",
        "  plot_plot('train_loss',train_loss_list,'Loss changes during training')\n",
        "\n",
        "  # Draw validation_loss plot\n",
        "  plot_plot_v('validation_loss',validation_loss_list, 'Loss changes during validating')\n",
        "\n",
        "  # Draw validation_acc plot\n",
        "  plot_plot_v('validation_acc',validation_accuracy_list, 'Accuracy changes during validating')\n",
        "\n",
        "  return train_model\n",
        "  "
      ],
      "execution_count": 7,
      "outputs": []
    },
    {
      "cell_type": "code",
      "metadata": {
        "id": "SwiMSkqmH2bd"
      },
      "source": [
        "# Test trained model\n",
        "def test(model, test_dataloader, device): \n",
        "  # Count time that test processing spent\n",
        "  start_time = timeit.default_timer() \n",
        "  test_predictions = []\n",
        "  true_labels = []\n",
        "  model.eval()\n",
        "  for data, target in test_dataloader:\n",
        "    data = data.to(device)\n",
        "    target = target.to(device)\n",
        "    output = model(data)\n",
        "    #test_loss += criterion(output, target)\n",
        "    test_pred = output.data.max(1, keepdim=True)[1]\n",
        "    test_predictions.append(test_pred)\n",
        "    true_labels.append(target.unsqueeze(1))\n",
        "  end_time = timeit.default_timer()\n",
        "  test_time = (end_time - start_time)\n",
        "  print(\"Total run time of testing the model: \", test_time , \" seconds.\")\n",
        "  # Present test image example\n",
        "  plt.figure(num=1, figsize=(8, 5))\n",
        "  plt.title('Test sample results')\n",
        "  for i in range(8):\n",
        "    plt.subplot(4,2,i+1)\n",
        "    pre = 'Predict number: ' + str(test_pred[i][0].cpu().numpy())\n",
        "    plt.subplots_adjust(wspace=1, hspace=1)\n",
        "    plt.title(pre)\n",
        "    img = data[i][0].cpu()\n",
        "    plt.imshow(img,cmap='gray')\n",
        "    plt.xticks([])\n",
        "    plt.yticks([])\n",
        "  plt.savefig(root + 'test_output.jpg')\n",
        "  plt.show() \n",
        "  return test_predictions, true_labels, test_time"
      ],
      "execution_count": 8,
      "outputs": []
    },
    {
      "cell_type": "code",
      "metadata": {
        "id": "EkmFENd3H7ss"
      },
      "source": [
        "# Save model\n",
        "def save_model(model,dataset_name):\n",
        "  torch.save(model.to(torch.device(\"cpu\")), root +dataset_name+'_model.pt') "
      ],
      "execution_count": 9,
      "outputs": []
    },
    {
      "cell_type": "code",
      "metadata": {
        "id": "yOCd3URlD2GO"
      },
      "source": [
        "def run(dataset_name):\n",
        "  # Initialization paraments\n",
        "  config_mnist = {\n",
        "      'lr': 0.014,\n",
        "      'num_epochs': 40,\n",
        "      'batch_size': 128,\n",
        "      'num_classes': 10,\n",
        "      'regular_constant': 0,\n",
        "      'transform': transforms.Compose([transforms.ToTensor(),\n",
        "                                    transforms.Normalize((0.1307,), (0.3081,))]),\n",
        "      'momentum': 0.9876, \n",
        "      'weight_decay': 0.01}\n",
        "  device = torch.device(\"cuda\" if torch.cuda.is_available() else \"cpu\")\n",
        "\n",
        "  # Loda dataset and train for model\n",
        "  if dataset_name =='MNIST':\n",
        "    train_dataloader, valid_dataloader, test_dataloader = load_data(dataset_name, device, config_mnist)\n",
        "    model = train(train_dataloader, valid_dataloader, device, config_mnist, mni_net)\n",
        "\n",
        "  preds, labels, test_time = test(model.to(device), test_dataloader, device)\n",
        "  \n",
        "  # Save model\n",
        "  save_model(model,dataset_name)\n",
        "  \n",
        "  if preds is None or labels is None:\n",
        "    return (0, 0, 0)\n",
        "\n",
        "  # Calculate accuracy\n",
        "  correct = 0\n",
        "  total = 0\n",
        "  for label, prediction in zip(labels, preds):\n",
        "    total += label.size(0)\n",
        "    correct += (prediction.cpu().numpy() == label.cpu().numpy()).sum().item()   # assuming your model runs on GPU\n",
        "  accuracy = float(correct) / total\n",
        "  print('Correct prediction: ',correct,'/',total)\n",
        "  print('Accuracy of the network on the 10000 test images: %d %%' % (100 * correct / total))\n",
        "\n",
        "  return (correct, accuracy, test_time, model)"
      ],
      "execution_count": 10,
      "outputs": []
    },
    {
      "cell_type": "code",
      "metadata": {
        "colab": {
          "base_uri": "https://localhost:8080/",
          "height": 1000
        },
        "id": "YYkB_T3_D6v1",
        "outputId": "82afd0c1-fb48-472b-d15e-a2cec2eabe72"
      },
      "source": [
        "# main function\n",
        "result_all = OrderedDict()\n",
        "DatasetName = ['MNIST']\n",
        "for dataset_name in DatasetName:\n",
        "    correct_predict, accuracy, run_time, model = run(dataset_name)\n",
        "    result_all = OrderedDict(correct_predict=correct_predict, accuracy=accuracy, run_time=run_time)\n",
        "print(\"\\nResult:\\n\", pformat(result_all, indent=4))\n"
      ],
      "execution_count": 11,
      "outputs": [
        {
          "output_type": "display_data",
          "data": {
            "image/png": "[encoded data removed]",
            "text/plain": [
              "<Figure size 432x288 with 1 Axes>"
            ]
          },
          "metadata": {
            "tags": [],
            "needs_background": "light"
          }
        },
        {
          "output_type": "stream",
          "text": [
            "epoch 0\n",
            "Validation set: Avg. loss: 0.0140, Accuracy: 8143/12000 (68%)\n",
            "\n",
            "epoch 1\n",
            "epoch 2\n",
            "epoch 3\n",
            "epoch 4\n",
            "epoch 5\n",
            "Validation set: Avg. loss: 0.0120, Accuracy: 11347/12000 (95%)\n",
            "\n",
            "epoch 6\n",
            "epoch 7\n",
            "epoch 8\n",
            "epoch 9\n",
            "epoch 10\n",
            "Validation set: Avg. loss: 0.0119, Accuracy: 11530/12000 (96%)\n",
            "\n",
            "epoch 11\n",
            "epoch 12\n",
            "epoch 13\n",
            "epoch 14\n",
            "epoch 15\n",
            "Validation set: Avg. loss: 0.0119, Accuracy: 11414/12000 (95%)\n",
            "\n",
            "epoch 16\n",
            "epoch 17\n",
            "epoch 18\n",
            "epoch 19\n",
            "epoch 20\n",
            "Validation set: Avg. loss: 0.0119, Accuracy: 11432/12000 (95%)\n",
            "\n",
            "epoch 21\n",
            "epoch 22\n",
            "epoch 23\n",
            "epoch 24\n",
            "epoch 25\n",
            "Validation set: Avg. loss: 0.0120, Accuracy: 11271/12000 (94%)\n",
            "\n",
            "epoch 26\n",
            "epoch 27\n",
            "epoch 28\n",
            "epoch 29\n",
            "epoch 30\n",
            "Validation set: Avg. loss: 0.0119, Accuracy: 11432/12000 (95%)\n",
            "\n",
            "epoch 31\n",
            "epoch 32\n",
            "epoch 33\n",
            "epoch 34\n",
            "epoch 35\n",
            "Validation set: Avg. loss: 0.0119, Accuracy: 11510/12000 (96%)\n",
            "\n",
            "epoch 36\n",
            "epoch 37\n",
            "epoch 38\n",
            "epoch 39\n"
          ],
          "name": "stdout"
        },
        {
          "output_type": "display_data",
          "data": {
            "image/png": "[encoded data removed]",
            "text/plain": [
              "<Figure size 432x288 with 1 Axes>"
            ]
          },
          "metadata": {
            "tags": [],
            "needs_background": "light"
          }
        },
        {
          "output_type": "display_data",
          "data": {
            "image/png": "[encoded data removed]",
            "text/plain": [
              "<Figure size 432x288 with 1 Axes>"
            ]
          },
          "metadata": {
            "tags": [],
            "needs_background": "light"
          }
        },
        {
          "output_type": "display_data",
          "data": {
            "image/png": "[encoded data removed]",
            "text/plain": [
              "<Figure size 432x288 with 1 Axes>"
            ]
          },
          "metadata": {
            "tags": [],
            "needs_background": "light"
          }
        },
        {
          "output_type": "stream",
          "text": [
            "Total run time of testing the model:  1.6770221090000632  seconds.\n"
          ],
          "name": "stdout"
        },
        {
          "output_type": "display_data",
          "data": {
            "image/png": "[encoded data removed]",
            "text/plain": [
              "<Figure size 576x360 with 8 Axes>"
            ]
          },
          "metadata": {
            "tags": []
          }
        },
        {
          "output_type": "stream",
          "text": [
            "Correct prediction:  9702 / 10000\n",
            "Accuracy of the network on the 10000 test images: 97 %\n",
            "\n",
            "Result:\n",
            " OrderedDict([   ('correct_predict', 9702),\n",
            "                ('accuracy', 0.9702),\n",
            "                ('run_time', 1.6770221090000632)])\n"
          ],
          "name": "stdout"
        }
      ]
    }
  ]
}